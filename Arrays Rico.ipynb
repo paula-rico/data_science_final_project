{
 "cells": [
  {
   "cell_type": "code",
   "execution_count": 1,
   "id": "45bc21dc",
   "metadata": {},
   "outputs": [],
   "source": [
    "import numpy as np\n",
    "import pandas as pd\n"
   ]
  },
  {
   "cell_type": "markdown",
   "id": "5cd26f11",
   "metadata": {},
   "source": [
    "## Ejercicio 1"
   ]
  },
  {
   "cell_type": "code",
   "execution_count": 2,
   "id": "f83882e4",
   "metadata": {},
   "outputs": [
    {
     "data": {
      "text/plain": [
       "array([86, 39, 89, 71, 27, 60, 40, 60, 59, 75, 38, 40,  7, 80, 93, 65, 55,\n",
       "       25,  2, 59, 51, 40, 78, 95, 51,  1, 31,  1, 85, 52, 54, 55, 38, 90,\n",
       "       56, 80, 12, 60, 53, 79, 95, 15, 67, 83, 11, 16,  9, 46, 68, 95, 89,\n",
       "       51, 54, 44,  7, 93, 95, 58, 37, 64, 13, 12,  9, 49, 67, 51, 20, 69,\n",
       "       87, 60, 33, 44, 84, 43, 97, 17, 43, 24, 60, 29,  5, 70, 14, 46, 58,\n",
       "       96, 29, 39,  0, 44, 86, 77, 59, 41, 18, 16, 50,  3, 92, 21])"
      ]
     },
     "execution_count": 2,
     "metadata": {},
     "output_type": "execute_result"
    }
   ],
   "source": [
    "array = np.random.randint(100,size=100)\n",
    "array"
   ]
  },
  {
   "cell_type": "code",
   "execution_count": 3,
   "id": "44499049",
   "metadata": {},
   "outputs": [
    {
     "name": "stdout",
     "output_type": "stream",
     "text": [
      "51.0\n"
     ]
    }
   ],
   "source": [
    "print(np.median(array))"
   ]
  },
  {
   "cell_type": "code",
   "execution_count": 4,
   "id": "050231e7",
   "metadata": {},
   "outputs": [
    {
     "data": {
      "text/plain": [
       "array([31, 23,  4, 89, 67, 53, 74, 97, 49, 32, 64, 62, 71, 56, 76, 80, 77,\n",
       "       87, 50, 67, 70, 81, 41, 46, 82, 67,  5, 15, 86, 17, 23, 88, 38,  0,\n",
       "       95, 81, 40, 89, 83, 57, 78,  7, 37, 55, 85, 47, 43, 30, 14, 91, 83,\n",
       "       58, 72, 82, 24, 91, 75, 18, 93, 69, 25,  6, 17, 64, 63, 30, 81, 37,\n",
       "       70,  2, 32, 51, 24, 21, 16, 30, 91, 67, 13,  8, 13, 83, 65, 48, 15,\n",
       "        7, 93, 23, 48,  8, 42,  7, 79,  4, 61, 58, 96, 75, 35, 90])"
      ]
     },
     "execution_count": 4,
     "metadata": {},
     "output_type": "execute_result"
    }
   ],
   "source": [
    "array2 = np.random.randint(100,size=100)\n",
    "array2"
   ]
  },
  {
   "cell_type": "code",
   "execution_count": 5,
   "id": "c99d9599",
   "metadata": {},
   "outputs": [
    {
     "name": "stdout",
     "output_type": "stream",
     "text": [
      "55.5\n"
     ]
    }
   ],
   "source": [
    "print(np.median(array2))"
   ]
  },
  {
   "cell_type": "markdown",
   "id": "f59d26e2",
   "metadata": {},
   "source": [
    "## Ejercicio 2"
   ]
  },
  {
   "cell_type": "code",
   "execution_count": 6,
   "id": "38aecd20",
   "metadata": {},
   "outputs": [],
   "source": [
    "def suma(x,y):\n",
    "    if x>y:\n",
    "        print(\"Por favor seleccione un rango ingresando el numero menor primero y el mayor en segundo lugar\")\n",
    "    elif x==y:\n",
    "        print(\"Los dos numeros ingresados son iguales, por favor ingrese dos numeros distintos con el menor en primer lugar\")\n",
    "    else:\n",
    "        a=np.array(range(x,y+1)).sum()\n",
    "        print(\"La suma de los numeros ingresados es \", a)"
   ]
  },
  {
   "cell_type": "code",
   "execution_count": 7,
   "id": "302d5cd7",
   "metadata": {},
   "outputs": [
    {
     "name": "stdout",
     "output_type": "stream",
     "text": [
      "La suma de los numeros ingresados es  1495\n"
     ]
    }
   ],
   "source": [
    "suma(10,55)"
   ]
  },
  {
   "cell_type": "code",
   "execution_count": 8,
   "id": "0243fe55",
   "metadata": {},
   "outputs": [],
   "source": [
    "def fact(x):\n",
    "    a=np.math.factorial(x)\n",
    "    return a"
   ]
  },
  {
   "cell_type": "code",
   "execution_count": 9,
   "id": "d16bd478",
   "metadata": {},
   "outputs": [
    {
     "data": {
      "text/plain": [
       "120"
      ]
     },
     "execution_count": 9,
     "metadata": {},
     "output_type": "execute_result"
    }
   ],
   "source": [
    "fact(5)"
   ]
  },
  {
   "cell_type": "code",
   "execution_count": 10,
   "id": "e33e57cb",
   "metadata": {},
   "outputs": [
    {
     "data": {
      "text/plain": [
       "5040"
      ]
     },
     "execution_count": 10,
     "metadata": {},
     "output_type": "execute_result"
    }
   ],
   "source": [
    "fact(7)"
   ]
  },
  {
   "cell_type": "markdown",
   "id": "565dfd22",
   "metadata": {},
   "source": [
    "## Ejercicio 3"
   ]
  },
  {
   "cell_type": "code",
   "execution_count": 11,
   "id": "dbcc22ad",
   "metadata": {},
   "outputs": [],
   "source": [
    "salarios = pd.read_csv('Salarios Openqube - 2020.02.csv', header=0, usecols = ['Salario mensual NETO (en tu moneda local)'])"
   ]
  },
  {
   "cell_type": "code",
   "execution_count": 12,
   "id": "5c577b75",
   "metadata": {},
   "outputs": [],
   "source": [
    "sal_array=np.array(salarios)\n",
    "sal_array=np.where(sal_array=='39.434.784',39434784,sal_array)"
   ]
  },
  {
   "cell_type": "code",
   "execution_count": 13,
   "id": "7d642fdd",
   "metadata": {},
   "outputs": [],
   "source": [
    "sal_array=sal_array.astype(float)"
   ]
  },
  {
   "cell_type": "code",
   "execution_count": 14,
   "id": "bdf5dfcc",
   "metadata": {
    "scrolled": true
   },
   "outputs": [],
   "source": [
    "sal_array = sal_array[np.logical_not(np.isnan(sal_array))]\n"
   ]
  },
  {
   "cell_type": "code",
   "execution_count": 15,
   "id": "3c7f4afa",
   "metadata": {},
   "outputs": [
    {
     "name": "stdout",
     "output_type": "stream",
     "text": [
      "19309252.00295999\n",
      "76000.0\n"
     ]
    }
   ],
   "source": [
    "print(sal_array.mean())\n",
    "print(np.median(sal_array))"
   ]
  }
 ],
 "metadata": {
  "kernelspec": {
   "display_name": "Python 3 (ipykernel)",
   "language": "python",
   "name": "python3"
  },
  "language_info": {
   "codemirror_mode": {
    "name": "ipython",
    "version": 3
   },
   "file_extension": ".py",
   "mimetype": "text/x-python",
   "name": "python",
   "nbconvert_exporter": "python",
   "pygments_lexer": "ipython3",
   "version": "3.9.7"
  }
 },
 "nbformat": 4,
 "nbformat_minor": 5
}
